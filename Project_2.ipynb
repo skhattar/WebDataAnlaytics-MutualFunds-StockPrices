{
 "cells": [
  {
   "cell_type": "code",
   "execution_count": 6,
   "metadata": {
    "collapsed": true
   },
   "outputs": [],
   "source": [
    "import urllib2\n",
    "import pandas as pd\n",
    "wildcards = []\n",
    "search_urls = []\n",
    "CIK = []\n",
    "Fund_Name = []\n",
    "Vowels = ['a','e','i','o','u']\n",
    "for i in Vowels:\n",
    "    wildcards.append(i + \"*\")"
   ]
  },
  {
   "cell_type": "code",
   "execution_count": 7,
   "metadata": {
    "collapsed": true
   },
   "outputs": [],
   "source": [
    "for item in wildcards:  \n",
    "    url = 'https://www.sec.gov/cgi-bin/series?company='+item+'&CIK=&start=1&count=500'\n",
    "    html = urllib2.urlopen(url).read()\n",
    "    \n",
    "    last_page = False\n",
    "    \n",
    "    counter = 0  #only use this if you want to stop at certain page.\n",
    "    \n",
    "    while last_page == False:\n",
    "    \n",
    "        index = html.find(\"<table summary=\") #going closer to the results table\n",
    "        html2 = html[index:]\n",
    "\n",
    "        #SAME CODE AS BEFORE STARTS HERE\n",
    "        while html2.find(\"a class=\\\"search\\\" href=\\\"/cgi-bin/browse-edgar?CIK=\") != -1: \n",
    "\n",
    "            #We are running a while loop because we want to get everything in the page\n",
    "            index = html2.find(\"a class=\\\"search\\\" href=\\\"/cgi-bin/browse-edgar?CIK=\")\n",
    "            remaining = html2[index:]\n",
    "\n",
    "            start = remaining.find(\">\")\n",
    "            end = remaining.find(\"<\")\n",
    "            CIK.append(remaining[start+1:end])\n",
    "\n",
    "            remaining = remaining[end:]\n",
    "            index = remaining.find(\"</td>\")\n",
    "            remaining = remaining[index:]\n",
    "\n",
    "            index = remaining.find(\"action=getcompany&amp;scd=series\")\n",
    "            remaining = remaining[index:]\n",
    "\n",
    "            start = remaining.find(\">\")\n",
    "            end = remaining.find(\"<\")\n",
    "            Fund_Name.append(remaining[start+1:end].replace(\" \", \"_\"))\n",
    "\n",
    "            remaining = remaining[end:]\n",
    "            index = remaining.find(\"</td>\")\n",
    "            html2 = remaining[index:]\n",
    "        #SAME CODE AS BEFORE ENDS\n",
    "        \n",
    "        index = html.find('count=500\">[NEXT]')\n",
    "        \n",
    "        if index == -1:\n",
    "            last_page == True\n",
    "        \n",
    "        else:\n",
    "        \n",
    "            html2 = html[index-20:index+100]\n",
    "            start=html2.find('start=')+6\n",
    "            end = html2.find('&amp;count=')\n",
    "            start_number = html2[start:end]\n",
    "\n",
    "            url = 'https://www.sec.gov/cgi-bin/series?company='+item+'&CIK=&start='+start_number+'&count=500'\n",
    "\n",
    "            html = urllib2.urlopen(url).read()\n",
    "        \n",
    "        counter += 1\n",
    "        if counter == 10:\n",
    "            last_page = True    #only use this to limit the number of pages to go through.  You can drop this later.\n",
    "    "
   ]
  },
  {
   "cell_type": "code",
   "execution_count": 8,
   "metadata": {},
   "outputs": [],
   "source": [
    "outputdf=pd.DataFrame(CIK, columns=['CIK'])\n",
    "outputdf['Fund_Name']=Fund_Name\n",
    "outputdf.to_csv('allmf.csv')"
   ]
  },
  {
   "cell_type": "code",
   "execution_count": 10,
   "metadata": {
    "collapsed": true
   },
   "outputs": [],
   "source": [
    "import time\n",
    "from urllib import FancyURLopener  # This is library that helps us create the headless browser\n",
    "from random import choice #This library helps pick a random item from a list\n",
    "\n",
    "user_agents = [\n",
    "    'Mozilla/5.0 (Windows NT 6.1) AppleWebKit/537.36 (KHTML, like Gecko) Chrome/41.0.2228.0 Safari/537.36',\n",
    "    'Opera/9.80 (X11; Linux i686; Ubuntu/14.10) Presto/2.12.388 Version/12.16',\n",
    "    'Mozilla/5.0 (Windows; U; Windows NT 6.1; rv:2.2) Gecko/20110201',\n",
    "    'Mozilla/5.0 (Macintosh; Intel Mac OS X 10_9_3) AppleWebKit/537.75.14 (KHTML, like Gecko) Version/7.0.3 Safari/7046A194A',\n",
    "    'Mozilla/5.0 (Windows NT 10.0; Win64; x64) AppleWebKit/537.36 (KHTML, like Gecko) Chrome/42.0.2311.135 Safari/537.36 Edge/12.246'\n",
    "]"
   ]
  },
  {
   "cell_type": "code",
   "execution_count": 15,
   "metadata": {
    "collapsed": true
   },
   "outputs": [],
   "source": [
    "\n",
    "CIK_13F = []\n",
    "weblinks = []\n",
    "\n",
    "name = []"
   ]
  },
  {
   "cell_type": "code",
   "execution_count": 16,
   "metadata": {},
   "outputs": [],
   "source": [
    "for item in CIK:\n",
    "    \n",
    "    link = 'https://www.sec.gov/cgi-bin/browse-edgar?action=getcompany&CIK=' + item + '&type=13F-HR&dateb=&count=100&scd=filings'\n",
    "    \n",
    "    class MyOpener(FancyURLopener, object):\n",
    "        version = choice(user_agents)\n",
    "    \n",
    "    myopener = MyOpener()\n",
    "    page=myopener.open(link)\n",
    "    \n",
    "    html = page.read()\n",
    "    \n",
    "    # In the above codes, we are creating a class called MyOpener, which takes in a random input from the user agent list\n",
    "    # and then opens the link in the supposed browser that it is mimicking and reads the html code. For every link, there is\n",
    "    # a random choice of browser from the 5 that is listed\n",
    "            \n",
    "    index = html.find('a href=\\\"/Archives/edgar/data/')\n",
    "    html2 = html[index:]\n",
    "\n",
    "    while html2.find('a href=\\\"/Archives/edgar/data/') != -1:\n",
    "\n",
    "        start = html2.find('a href=\\\"/Archives/edgar/data/')\n",
    "        remaining = html2[start:]\n",
    "        end = remaining.find('id=\\\"documentsbutton\\\"')\n",
    "        weblinks.append('https://www.sec.gov'+remaining[8:end-2])\n",
    "        remaining = remaining[end:]\n",
    "\n",
    "        index = remaining.find('</td>')\n",
    "        html2 = remaining[index:]\n",
    "\n",
    "        CIK_13F.append(item)\n",
    "        name.append(Fund_Name[CIK.index(item)])\n"
   ]
  },
  {
   "cell_type": "code",
   "execution_count": 17,
   "metadata": {
    "collapsed": true
   },
   "outputs": [],
   "source": [
    "outputdf=pd.DataFrame(name, columns=['name'])\n",
    "outputdf['weblinks']=weblinks\n",
    "outputdf['CIK_13F']=CIK_13F\n",
    "outputdf.to_csv('CIK13F.csv')"
   ]
  },
  {
   "cell_type": "code",
   "execution_count": 18,
   "metadata": {
    "collapsed": true
   },
   "outputs": [],
   "source": [
    "\n",
    "date = []\n",
    "info_table = []\n",
    "info_type = []"
   ]
  },
  {
   "cell_type": "code",
   "execution_count": 19,
   "metadata": {
    "collapsed": true
   },
   "outputs": [],
   "source": [
    "for page in weblinks:\n",
    "    html = urllib2.urlopen(page).read()\n",
    "    \n",
    "    date_index = html.find('div class=\\\"infoHead\\\">Filing Date<')\n",
    "    date_html = html[date_index:]\n",
    "    date_index2 = date_html.find('class=\\\"info\\\">')\n",
    "    date_html = date_html[date_index2:]\n",
    "    start = date_html.find(\">\")\n",
    "    end = date_html.find(\"<\")\n",
    "    date.append(date_html[start+1:end])  # This gets us the date\n",
    "    \n",
    "    if html.find('td scope=\\\"row\\\">2<') != -1: # By this condition we check whether there is a xml version. For an xml version there are two items present in each table in the page\n",
    "        \n",
    "        index = html.find('td scope=\\\"row\\\">2<')\n",
    "        html2 = html[index:]\n",
    "    \n",
    "        start = html2.find('a href=\\\"/Archives/edgar/data/')\n",
    "        remaining = html2[start:]\n",
    "        end = remaining.find('>')\n",
    "    \n",
    "        info_table.append(remaining[8:end-1]) # we collect the link\n",
    "    \n",
    "        info_type.append('xml') # we mention that this is an xml link\n",
    "            \n",
    "    else: # Or else, we get the idea that the info table is in text format\n",
    "        \n",
    "        index = html.find('td scope=\\\"row\\\">Complete submission text file')\n",
    "        html2 = html[index:]\n",
    "        \n",
    "        start = html2.find('a href=\\\"/Archives/edgar/data/')\n",
    "        remaining = html2[start:]\n",
    "        end = remaining.find('>')\n",
    "    \n",
    "        info_table.append(remaining[8:end-1]) \n",
    "\n",
    "        info_type.append('text') # we mention that this is a text link"
   ]
  },
  {
   "cell_type": "code",
   "execution_count": 20,
   "metadata": {
    "collapsed": true
   },
   "outputs": [],
   "source": [
    "outputdf=pd.DataFrame(name, columns=['name'])\n",
    "outputdf['date']=date\n",
    "outputdf['info_type']=info_type\n",
    "outputdf['info_table']=info_table\n",
    "outputdf.to_csv('13Flink.csv')"
   ]
  },
  {
   "cell_type": "code",
   "execution_count": null,
   "metadata": {
    "collapsed": true
   },
   "outputs": [],
   "source": []
  }
 ],
 "metadata": {
  "kernelspec": {
   "display_name": "Python 2",
   "language": "python",
   "name": "python2"
  },
  "language_info": {
   "codemirror_mode": {
    "name": "ipython",
    "version": 2
   },
   "file_extension": ".py",
   "mimetype": "text/x-python",
   "name": "python",
   "nbconvert_exporter": "python",
   "pygments_lexer": "ipython2",
   "version": "2.7.13"
  }
 },
 "nbformat": 4,
 "nbformat_minor": 2
}
